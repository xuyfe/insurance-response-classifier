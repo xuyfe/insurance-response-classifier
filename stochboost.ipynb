{
 "cells": [
  {
   "cell_type": "markdown",
   "metadata": {},
   "source": [
    "# Tuning Stochastic Gradient Boosting"
   ]
  },
  {
   "cell_type": "code",
   "execution_count": 33,
   "metadata": {},
   "outputs": [],
   "source": [
    "import pandas as pd \n",
    "import numpy as np \n",
    "from sklearn.ensemble import GradientBoostingClassifier\n",
    "from sklearn.metrics import roc_auc_score\n",
    "import optuna"
   ]
  },
  {
   "cell_type": "code",
   "execution_count": 34,
   "metadata": {},
   "outputs": [],
   "source": [
    "xtrain = pd.read_csv('scaled_data/xtrain.csv', index_col = 0)\n",
    "xtest = pd.read_csv('scaled_data/xtest.csv', index_col = 0)\n",
    "ytrain = pd.read_csv('scaled_data/ytrain.csv', index_col = 0)\n",
    "ytest = pd.read_csv('scaled_data/ytest.csv', index_col = 0)"
   ]
  },
  {
   "cell_type": "code",
   "execution_count": 35,
   "metadata": {},
   "outputs": [
    {
     "data": {
      "text/plain": [
       "(172572,)"
      ]
     },
     "execution_count": 35,
     "metadata": {},
     "output_type": "execute_result"
    }
   ],
   "source": [
    "ytest = ytest.to_numpy().flatten()\n",
    "ytest.shape"
   ]
  },
  {
   "cell_type": "code",
   "execution_count": 36,
   "metadata": {},
   "outputs": [
    {
     "data": {
      "text/plain": [
       "(402668,)"
      ]
     },
     "execution_count": 36,
     "metadata": {},
     "output_type": "execute_result"
    }
   ],
   "source": [
    "ytrain = ytrain.to_numpy().flatten()\n",
    "ytrain.shape"
   ]
  },
  {
   "cell_type": "code",
   "execution_count": 37,
   "metadata": {},
   "outputs": [],
   "source": [
    "train = pd.read_csv('scaled_data/train_scaled.csv', index_col = 0)\n",
    "test = pd.read_csv('scaled_data/test_scaled.csv', index_col = 0)"
   ]
  },
  {
   "cell_type": "code",
   "execution_count": 38,
   "metadata": {},
   "outputs": [],
   "source": [
    "# for the labels and the id\n",
    "train_raw = pd.read_csv('data/train_sample.csv', index_col = 0)\n",
    "test_raw = pd.read_csv('data/test_sample.csv')"
   ]
  },
  {
   "cell_type": "code",
   "execution_count": 39,
   "metadata": {},
   "outputs": [],
   "source": [
    "# define the objective function\n",
    "def objective(trial: optuna.Trial, \n",
    "              xtrain: pd.DataFrame, \n",
    "              ytrain: pd.DataFrame, \n",
    "              xtest: pd.DataFrame, \n",
    "              ytest: pd.DataFrame) -> float:\n",
    "    \n",
    "    # define the hyperparameters to tune\n",
    "    hyperparams = {\n",
    "        'random_state' : 123,\n",
    "        'n_estimators' : trial.suggest_int('n_estimators', 500, 1500),\n",
    "        'learning_rate' : trial.suggest_float('learning_rate', 1e-8, 1, log=True),\n",
    "        'max_depth' : trial.suggest_int('max_depth', 5, 15),\n",
    "        'min_samples_split' : trial.suggest_int('min_samples_split', 2, 20),\n",
    "        'min_samples_leaf' : trial.suggest_int('min_samples_leaf', 1, 20),\n",
    "        'subsample' : trial.suggest_float('subsample', 0.5, 0.9),\n",
    "        'max_features' : trial.suggest_categorical('max_features', ['sqrt', 'log2'])\n",
    "    }\n",
    "\n",
    "    # train model\n",
    "    sgbm_clf = GradientBoostingClassifier(**hyperparams)\n",
    "\n",
    "    sgbm_clf.fit(xtrain, \n",
    "                 ytrain, \n",
    "                 # eval_set = [(xtest, ytest)], \n",
    "                 # early_stopping_rounds = 50\n",
    "    )\n",
    "\n",
    "    y_pred_proba = sgbm_clf.predict_proba(xtest)\n",
    "\n",
    "    roc_auc = roc_auc_score(ytest, y_pred_proba[:, 1])\n",
    "\n",
    "    return float(roc_auc)"
   ]
  },
  {
   "cell_type": "code",
   "execution_count": null,
   "metadata": {},
   "outputs": [],
   "source": [
    "study = optuna.create_study(direction='maximize')\n",
    "study.optimize(lambda trial: objective(trial, \n",
    "                                       xtrain = xtrain,\n",
    "                                       xtest = xtest,\n",
    "                                       ytrain = ytrain, \n",
    "                                       ytest = ytest),\n",
    "                n_trials = 50)"
   ]
  },
  {
   "cell_type": "code",
   "execution_count": null,
   "metadata": {},
   "outputs": [],
   "source": [
    "hyperparams = {\n",
    "     'n_estimators': 1494, \n",
    "     'learning_rate': 9.141062667777569e-05, \n",
    "     'max_depth': 15, \n",
    "     'min_samples_split': 10, \n",
    "     'min_samples_leaf': 5, \n",
    "     'subsample': 0.8850497055161204, \n",
    "     'max_features': 'log2'\n",
    "}"
   ]
  }
 ],
 "metadata": {
  "kernelspec": {
   "display_name": "insurance",
   "language": "python",
   "name": "python3"
  },
  "language_info": {
   "codemirror_mode": {
    "name": "ipython",
    "version": 3
   },
   "file_extension": ".py",
   "mimetype": "text/x-python",
   "name": "python",
   "nbconvert_exporter": "python",
   "pygments_lexer": "ipython3",
   "version": "3.11.5"
  }
 },
 "nbformat": 4,
 "nbformat_minor": 2
}
