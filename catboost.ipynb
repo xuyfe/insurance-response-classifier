{
 "cells": [
  {
   "cell_type": "code",
   "execution_count": null,
   "metadata": {},
   "outputs": [],
   "source": [
    "import optuna\n",
    "from catboost import CatBoostClassifier\n",
    "from sklearn.metrics import roc_auc_score\n",
    "import pandas as pd \n",
    "\n",
    "def objective(trial: optuna.Trial,\n",
    "              xtrain: pd.DataFrame,\n",
    "              ytrain: pd.DataFrame,\n",
    "              xtest: pd.DataFrame,\n",
    "              ytest: pd.DataFrame) -> float:\n",
    "    \n",
    "    # Define hyperparameters to tune\n",
    "    params = {\n",
    "        'iterations': trial.suggest_int('iterations', 100, 1000),\n",
    "        'depth': trial.suggest_int('depth', 5, 15),\n",
    "        'learning_rate': trial.suggest_loguniform('learning_rate', 1e-4, 1e-1),\n",
    "        'l2_leaf_reg': trial.suggest_loguniform('l2_leaf_reg', 1e-3, 1e2),\n",
    "        'border_count': trial.suggest_int('border_count', 32, 255),\n",
    "        'scale_pos_weight': trial.suggest_loguniform('scale_pos_weight', 1e-3, 1e3),\n",
    "        'custom_metric': ['AUC'],\n",
    "        'eval_metric': 'AUC',\n",
    "        'random_state': 42\n",
    "    }\n",
    "    \n",
    "    # Initialize CatBoostClassifier with trial parameters\n",
    "    model = CatBoostClassifier(**params, silent=True)\n",
    "    \n",
    "    # Train the model\n",
    "    model.fit(xtrain, ytrain, eval_set=(xtest, ytest), use_best_model=True)\n",
    "    \n",
    "    # Predict and evaluate\n",
    "    y_pred_proba = model.predict_proba(xtest)\n",
    "    roc_auc = roc_auc_score(ytest, y_pred_proba)\n",
    "    \n",
    "    # Return the metric to optimize (negative accuracy for maximization)\n",
    "    return roc_auc\n",
    "\n",
    "# Create an Optuna study and optimize the objective function\n",
    "study = optuna.create_study(direction='minimize')  # Minimizing the negative accuracy\n",
    "study.optimize(objective, n_trials=50)\n",
    "\n",
    "# Print the best hyperparameters\n",
    "print('Best hyperparameters:', study.best_params)\n",
    "print('Best score:', study.best_value)"
   ]
  }
 ],
 "metadata": {
  "kernelspec": {
   "display_name": "insurance",
   "language": "python",
   "name": "python3"
  },
  "language_info": {
   "codemirror_mode": {
    "name": "ipython",
    "version": 3
   },
   "file_extension": ".py",
   "mimetype": "text/x-python",
   "name": "python",
   "nbconvert_exporter": "python",
   "pygments_lexer": "ipython3",
   "version": "3.11.5"
  }
 },
 "nbformat": 4,
 "nbformat_minor": 2
}
