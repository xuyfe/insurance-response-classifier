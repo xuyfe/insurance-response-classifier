{
 "cells": [
  {
   "cell_type": "markdown",
   "metadata": {},
   "source": [
    "# Tuning XGBoost"
   ]
  },
  {
   "cell_type": "code",
   "execution_count": 3,
   "metadata": {},
   "outputs": [],
   "source": [
    "from sklearn.metrics import roc_auc_score\n",
    "from xgboost import XGBClassifier"
   ]
  },
  {
   "cell_type": "markdown",
   "metadata": {},
   "source": [
    "# Import Data"
   ]
  },
  {
   "cell_type": "code",
   "execution_count": 4,
   "metadata": {},
   "outputs": [],
   "source": [
    "import pandas as pd \n",
    "import numpy as np"
   ]
  },
  {
   "cell_type": "code",
   "execution_count": 5,
   "metadata": {},
   "outputs": [],
   "source": [
    "xtrain = pd.read_csv('scaled_data/xtrain.csv', index_col = 0)\n",
    "xtest = pd.read_csv('scaled_data/xtest.csv', index_col = 0)\n",
    "ytrain = pd.read_csv('scaled_data/ytrain.csv', index_col = 0)\n",
    "ytest = pd.read_csv('scaled_data/ytest.csv', index_col = 0)"
   ]
  },
  {
   "cell_type": "code",
   "execution_count": 6,
   "metadata": {},
   "outputs": [],
   "source": [
    "train = pd.read_csv('scaled_data/train_scaled.csv', index_col = 0)\n",
    "test = pd.read_csv('scaled_data/test_scaled.csv', index_col = 0)"
   ]
  },
  {
   "cell_type": "code",
   "execution_count": 7,
   "metadata": {},
   "outputs": [],
   "source": [
    "# for the labels and the id\n",
    "train_raw = pd.read_csv('data/train_sample.csv', index_col = 0)\n",
    "test_raw = pd.read_csv('data/test_sample.csv')"
   ]
  },
  {
   "cell_type": "markdown",
   "metadata": {},
   "source": [
    "# Hyperparameter Tuning"
   ]
  },
  {
   "cell_type": "code",
   "execution_count": 8,
   "metadata": {},
   "outputs": [
    {
     "name": "stderr",
     "output_type": "stream",
     "text": [
      "/Users/owenxuli/Documents/GitHub/insurance-response-classifier/insurance/lib/python3.11/site-packages/tqdm/auto.py:21: TqdmWarning: IProgress not found. Please update jupyter and ipywidgets. See https://ipywidgets.readthedocs.io/en/stable/user_install.html\n",
      "  from .autonotebook import tqdm as notebook_tqdm\n"
     ]
    }
   ],
   "source": [
    "import optuna\n",
    "from optuna_integration.xgboost import XGBoostPruningCallback\n",
    "from sklearn.model_selection import StratifiedKFold"
   ]
  },
  {
   "cell_type": "code",
   "execution_count": 9,
   "metadata": {},
   "outputs": [],
   "source": [
    "# define the objective function\n",
    "def objective(trial: optuna.Trial, \n",
    "              xtrain: pd.DataFrame, \n",
    "              ytrain: pd.DataFrame, \n",
    "              xtest: pd.DataFrame, \n",
    "              ytest: pd.DataFrame) -> float:\n",
    "    # define the hyperparameters to tune\n",
    "    hyperparams = {\n",
    "        'objective' : 'binary:logistic',\n",
    "        'eval_metric' : 'auc',\n",
    "        'seed' : 123,\n",
    "        'n_estimators' : trial.suggest_int('n_estimators', 500, 1500),\n",
    "        'learning_rate' : trial.suggest_float('learning_rate', 1e-8, 1, log=True),\n",
    "        'max_depth' : trial.suggest_int('max_depth', 5, 15),\n",
    "        'gamma' : trial.suggest_float('gamma', 0, 20),\n",
    "        'min_child_weight' : trial.suggest_int('min_child_weight', 2, 20),\n",
    "        'reg_alpha' : trial.suggest_float('reg_alpha', 1e-2, 0.1),\n",
    "        'reg_lambda' : trial.suggest_float('reg_lambda', 1e-2, 0.1),\n",
    "        'subsample' : trial.suggest_float('subsample', 0.5, 0.9),\n",
    "        'colsample_bytree' : trial.suggest_float('colsample_bytree', 0.5, 0.9),\n",
    "        'colsample_bylevel' : trial.suggest_float('colsample_bylevel', 0.5, 0.9),\n",
    "        'colsample_bynode' : trial.suggest_float('colsample_bynode', 0.5, 0.9),\n",
    "        'grow_policy' : trial.suggest_categorical('grow_policy', ['depthwise', 'lossguide'])\n",
    "    }\n",
    "\n",
    "    # pruning callback\n",
    "    pruning_callback = XGBoostPruningCallback(trial, 'validation_0-auc')\n",
    "\n",
    "    # train model\n",
    "    xgb_clf = XGBClassifier(\n",
    "        **hyperparams,\n",
    "        callbacks = [pruning_callback],\n",
    "        early_stopping_rounds = 50\n",
    "    )\n",
    "\n",
    "    xgb_clf.fit(xtrain, ytrain, eval_set = [(xtest, ytest)], verbose = False)\n",
    "\n",
    "    y_pred_proba = xgb_clf.predict_proba(xtest)\n",
    "\n",
    "    roc_auc = roc_auc_score(ytest, y_pred_proba[:, 1])\n",
    "\n",
    "    return float(roc_auc)"
   ]
  },
  {
   "cell_type": "code",
   "execution_count": 10,
   "metadata": {},
   "outputs": [
    {
     "name": "stderr",
     "output_type": "stream",
     "text": [
      "[I 2024-07-28 20:58:36,848] A new study created in memory with name: no-name-2d55079d-c577-45f3-a548-f2cc04a124f3\n",
      "[I 2024-07-28 20:59:11,938] Trial 0 finished with value: 0.5352235244360098 and parameters: {'n_estimators': 1479, 'learning_rate': 2.234587385400539e-08, 'max_depth': 9, 'gamma': 6.915696807760066, 'min_child_weight': 4, 'reg_alpha': 0.024620408924814357, 'reg_lambda': 0.07650010731181646, 'subsample': 0.5005594332848446, 'colsample_bytree': 0.8965430661379076, 'colsample_bylevel': 0.6167388886484589, 'colsample_bynode': 0.5930557447065157, 'grow_policy': 'lossguide'}. Best is trial 0 with value: 0.5352235244360098.\n",
      "[I 2024-07-28 20:59:14,867] Trial 1 finished with value: 0.861916053262346 and parameters: {'n_estimators': 884, 'learning_rate': 0.0016278441991233945, 'max_depth': 12, 'gamma': 9.361211156441847, 'min_child_weight': 13, 'reg_alpha': 0.07684795494116835, 'reg_lambda': 0.09379747545351755, 'subsample': 0.7427915713547272, 'colsample_bytree': 0.7147805950214091, 'colsample_bylevel': 0.5180065036463691, 'colsample_bynode': 0.8904953906818425, 'grow_policy': 'depthwise'}. Best is trial 1 with value: 0.861916053262346.\n",
      "[I 2024-07-28 20:59:21,079] Trial 2 finished with value: 0.860012633908059 and parameters: {'n_estimators': 1102, 'learning_rate': 1.1097968242081037e-07, 'max_depth': 12, 'gamma': 15.014642729626097, 'min_child_weight': 11, 'reg_alpha': 0.04954822601909643, 'reg_lambda': 0.07765066521615471, 'subsample': 0.8418210757125602, 'colsample_bytree': 0.897488428143285, 'colsample_bylevel': 0.8663891699188202, 'colsample_bynode': 0.6307390562151386, 'grow_policy': 'depthwise'}. Best is trial 1 with value: 0.861916053262346.\n",
      "[I 2024-07-28 20:59:24,451] Trial 3 finished with value: 0.8593229425059301 and parameters: {'n_estimators': 559, 'learning_rate': 2.039043278552814e-07, 'max_depth': 11, 'gamma': 17.311436392089085, 'min_child_weight': 11, 'reg_alpha': 0.08267949172273006, 'reg_lambda': 0.03828041771002589, 'subsample': 0.7942289772587505, 'colsample_bytree': 0.5085295979803033, 'colsample_bylevel': 0.6394619519033973, 'colsample_bynode': 0.689398539667919, 'grow_policy': 'depthwise'}. Best is trial 1 with value: 0.861916053262346.\n",
      "[I 2024-07-28 20:59:27,656] Trial 4 finished with value: 0.8614818950162375 and parameters: {'n_estimators': 1417, 'learning_rate': 2.2122143742234494e-07, 'max_depth': 8, 'gamma': 3.5086397906453626, 'min_child_weight': 3, 'reg_alpha': 0.035768266695984804, 'reg_lambda': 0.09643891897359598, 'subsample': 0.56550032150568, 'colsample_bytree': 0.8577768238028488, 'colsample_bylevel': 0.6136192872040591, 'colsample_bynode': 0.72271802284262, 'grow_policy': 'depthwise'}. Best is trial 1 with value: 0.861916053262346.\n",
      "[I 2024-07-28 20:59:27,795] Trial 5 pruned. Trial was pruned at iteration 0.\n",
      "[I 2024-07-28 20:59:27,904] Trial 6 pruned. Trial was pruned at iteration 0.\n",
      "[I 2024-07-28 20:59:30,417] Trial 7 finished with value: 0.8610461533916377 and parameters: {'n_estimators': 1051, 'learning_rate': 0.0028657084538261236, 'max_depth': 13, 'gamma': 11.44002532142003, 'min_child_weight': 7, 'reg_alpha': 0.050037220608110396, 'reg_lambda': 0.014716131548857078, 'subsample': 0.6738294739517442, 'colsample_bytree': 0.547116688918348, 'colsample_bylevel': 0.8532598980225874, 'colsample_bynode': 0.641340999890536, 'grow_policy': 'lossguide'}. Best is trial 1 with value: 0.861916053262346.\n",
      "[I 2024-07-28 20:59:30,527] Trial 8 pruned. Trial was pruned at iteration 0.\n",
      "[I 2024-07-28 20:59:33,553] Trial 9 finished with value: 0.8650938009091635 and parameters: {'n_estimators': 1077, 'learning_rate': 3.777753132747973e-05, 'max_depth': 13, 'gamma': 0.20944700962450158, 'min_child_weight': 11, 'reg_alpha': 0.06894831390561748, 'reg_lambda': 0.02440977282703587, 'subsample': 0.561035440882619, 'colsample_bytree': 0.7964141415768178, 'colsample_bylevel': 0.6475296430424647, 'colsample_bynode': 0.73813255145184, 'grow_policy': 'depthwise'}. Best is trial 9 with value: 0.8650938009091635.\n",
      "[I 2024-07-28 20:59:52,877] Trial 10 finished with value: 0.8665548075510189 and parameters: {'n_estimators': 833, 'learning_rate': 4.3774476081595565e-05, 'max_depth': 15, 'gamma': 0.4789175952467577, 'min_child_weight': 20, 'reg_alpha': 0.01261466457762754, 'reg_lambda': 0.04767790257195363, 'subsample': 0.670755003158082, 'colsample_bytree': 0.8049338510775443, 'colsample_bylevel': 0.7527250158102569, 'colsample_bynode': 0.8172793930199709, 'grow_policy': 'lossguide'}. Best is trial 10 with value: 0.8665548075510189.\n",
      "[I 2024-07-28 21:00:08,915] Trial 11 finished with value: 0.8668753117815768 and parameters: {'n_estimators': 834, 'learning_rate': 8.132824043852433e-05, 'max_depth': 15, 'gamma': 0.228381027682297, 'min_child_weight': 20, 'reg_alpha': 0.012166148023274932, 'reg_lambda': 0.04713726484213328, 'subsample': 0.6712887057695557, 'colsample_bytree': 0.8052186400587302, 'colsample_bylevel': 0.7521361281848008, 'colsample_bynode': 0.8160908141424111, 'grow_policy': 'lossguide'}. Best is trial 11 with value: 0.8668753117815768.\n",
      "[I 2024-07-28 21:00:21,860] Trial 12 finished with value: 0.8654338827136834 and parameters: {'n_estimators': 798, 'learning_rate': 4.888494249064693e-05, 'max_depth': 15, 'gamma': 3.1704831481444584, 'min_child_weight': 20, 'reg_alpha': 0.02017512952735146, 'reg_lambda': 0.05217396165397888, 'subsample': 0.6601780505306943, 'colsample_bytree': 0.6260240243282513, 'colsample_bylevel': 0.7680393039975055, 'colsample_bynode': 0.8451661341603504, 'grow_policy': 'lossguide'}. Best is trial 11 with value: 0.8668753117815768.\n",
      "[I 2024-07-28 21:00:30,517] Trial 13 finished with value: 0.866403817647914 and parameters: {'n_estimators': 668, 'learning_rate': 3.761181825363372e-06, 'max_depth': 15, 'gamma': 2.703056274863795, 'min_child_weight': 20, 'reg_alpha': 0.012176048203117549, 'reg_lambda': 0.053747113033335, 'subsample': 0.7321999259598428, 'colsample_bytree': 0.8038540147795323, 'colsample_bylevel': 0.7993560508033641, 'colsample_bynode': 0.807820856260039, 'grow_policy': 'lossguide'}. Best is trial 11 with value: 0.8668753117815768.\n",
      "[I 2024-07-28 21:00:43,501] Trial 14 finished with value: 0.8654315108335401 and parameters: {'n_estimators': 835, 'learning_rate': 0.0004043490948573126, 'max_depth': 15, 'gamma': 4.684840651784992, 'min_child_weight': 16, 'reg_alpha': 0.0319781577571427, 'reg_lambda': 0.03988419312156376, 'subsample': 0.6291094188397172, 'colsample_bytree': 0.7916842796158057, 'colsample_bylevel': 0.704354337561189, 'colsample_bynode': 0.8129742775737476, 'grow_policy': 'lossguide'}. Best is trial 11 with value: 0.8668753117815768.\n",
      "[I 2024-07-28 21:00:47,858] Trial 15 finished with value: 0.8634479228944587 and parameters: {'n_estimators': 690, 'learning_rate': 5.443686352124629e-06, 'max_depth': 14, 'gamma': 0.19259725305907227, 'min_child_weight': 16, 'reg_alpha': 0.011634401927831597, 'reg_lambda': 0.06539517123655014, 'subsample': 0.7236867191568692, 'colsample_bytree': 0.6332518336116116, 'colsample_bylevel': 0.8093086330243174, 'colsample_bynode': 0.5176393568236997, 'grow_policy': 'lossguide'}. Best is trial 11 with value: 0.8668753117815768.\n",
      "[I 2024-07-28 21:00:48,121] Trial 16 pruned. Trial was pruned at iteration 5.\n",
      "[I 2024-07-28 21:00:53,020] Trial 17 finished with value: 0.8675865606416235 and parameters: {'n_estimators': 711, 'learning_rate': 0.00016093367837677016, 'max_depth': 14, 'gamma': 5.255992577967418, 'min_child_weight': 14, 'reg_alpha': 0.026031544892288632, 'reg_lambda': 0.045564463503166515, 'subsample': 0.6290270907422986, 'colsample_bytree': 0.6554170878001674, 'colsample_bylevel': 0.8945099689936219, 'colsample_bynode': 0.8913016132854052, 'grow_policy': 'lossguide'}. Best is trial 17 with value: 0.8675865606416235.\n",
      "[I 2024-07-28 21:01:11,384] Trial 18 finished with value: 0.8727300500607587 and parameters: {'n_estimators': 549, 'learning_rate': 0.02048297301527602, 'max_depth': 11, 'gamma': 5.335151386018918, 'min_child_weight': 14, 'reg_alpha': 0.024314880686968618, 'reg_lambda': 0.06475031209581444, 'subsample': 0.6206196754717344, 'colsample_bytree': 0.6241502832850332, 'colsample_bylevel': 0.8854976177785948, 'colsample_bynode': 0.8927417843378882, 'grow_policy': 'lossguide'}. Best is trial 18 with value: 0.8727300500607587.\n",
      "[I 2024-07-28 21:01:11,594] Trial 19 pruned. Trial was pruned at iteration 2.\n",
      "[I 2024-07-28 21:01:11,797] Trial 20 pruned. Trial was pruned at iteration 1.\n",
      "[I 2024-07-28 21:01:12,074] Trial 21 pruned. Trial was pruned at iteration 1.\n",
      "[I 2024-07-28 21:01:12,278] Trial 22 pruned. Trial was pruned at iteration 1.\n",
      "[I 2024-07-28 21:01:12,429] Trial 23 pruned. Trial was pruned at iteration 0.\n",
      "[I 2024-07-28 21:01:12,654] Trial 24 pruned. Trial was pruned at iteration 0.\n",
      "[I 2024-07-28 21:01:13,201] Trial 25 pruned. Trial was pruned at iteration 7.\n",
      "[I 2024-07-28 21:01:13,354] Trial 26 pruned. Trial was pruned at iteration 0.\n",
      "[I 2024-07-28 21:01:13,497] Trial 27 pruned. Trial was pruned at iteration 0.\n",
      "[I 2024-07-28 21:01:13,639] Trial 28 pruned. Trial was pruned at iteration 0.\n",
      "[I 2024-07-28 21:01:13,851] Trial 29 pruned. Trial was pruned at iteration 2.\n",
      "[I 2024-07-28 21:01:13,996] Trial 30 pruned. Trial was pruned at iteration 0.\n",
      "[I 2024-07-28 21:01:14,243] Trial 31 pruned. Trial was pruned at iteration 1.\n",
      "[I 2024-07-28 21:01:23,705] Trial 32 finished with value: 0.8662897949600268 and parameters: {'n_estimators': 871, 'learning_rate': 2.8552456019152432e-05, 'max_depth': 15, 'gamma': 1.4695493171792418, 'min_child_weight': 20, 'reg_alpha': 0.023453635137319226, 'reg_lambda': 0.043696778437250595, 'subsample': 0.6124738592834494, 'colsample_bytree': 0.8257647236364792, 'colsample_bylevel': 0.7331216922330152, 'colsample_bynode': 0.8318793167217621, 'grow_policy': 'lossguide'}. Best is trial 18 with value: 0.8727300500607587.\n",
      "[I 2024-07-28 21:01:24,336] Trial 33 pruned. Trial was pruned at iteration 9.\n",
      "[I 2024-07-28 21:01:24,576] Trial 34 pruned. Trial was pruned at iteration 2.\n",
      "[I 2024-07-28 21:01:27,716] Trial 35 finished with value: 0.8666177056016894 and parameters: {'n_estimators': 569, 'learning_rate': 0.00016075499235470973, 'max_depth': 14, 'gamma': 5.770075693366921, 'min_child_weight': 12, 'reg_alpha': 0.03470911542337879, 'reg_lambda': 0.035475202405560624, 'subsample': 0.7130044767568389, 'colsample_bytree': 0.7254315761048958, 'colsample_bylevel': 0.7850069614697274, 'colsample_bynode': 0.8986126605688619, 'grow_policy': 'depthwise'}. Best is trial 18 with value: 0.8727300500607587.\n",
      "[I 2024-07-28 21:01:40,680] Trial 36 finished with value: 0.866296543483044 and parameters: {'n_estimators': 543, 'learning_rate': 0.00016773417190636298, 'max_depth': 13, 'gamma': 6.286733495255029, 'min_child_weight': 12, 'reg_alpha': 0.034746105378286034, 'reg_lambda': 0.03709422385617872, 'subsample': 0.7615188731407474, 'colsample_bytree': 0.7269732449899593, 'colsample_bylevel': 0.7963687968374749, 'colsample_bynode': 0.8991708728372356, 'grow_policy': 'depthwise'}. Best is trial 18 with value: 0.8727300500607587.\n",
      "[I 2024-07-28 21:01:40,828] Trial 37 pruned. Trial was pruned at iteration 0.\n",
      "[I 2024-07-28 21:01:45,384] Trial 38 finished with value: 0.8725606209431076 and parameters: {'n_estimators': 573, 'learning_rate': 0.267621801641075, 'max_depth': 11, 'gamma': 5.818853564152411, 'min_child_weight': 10, 'reg_alpha': 0.0457857620792482, 'reg_lambda': 0.0824289292834276, 'subsample': 0.5886227353095422, 'colsample_bytree': 0.7685836961848008, 'colsample_bylevel': 0.7888081509832504, 'colsample_bynode': 0.8734258118224062, 'grow_policy': 'depthwise'}. Best is trial 18 with value: 0.8727300500607587.\n",
      "[I 2024-07-28 21:01:45,520] Trial 39 pruned. Trial was pruned at iteration 0.\n",
      "[I 2024-07-28 21:01:45,655] Trial 40 pruned. Trial was pruned at iteration 0.\n",
      "[I 2024-07-28 21:01:45,863] Trial 41 pruned. Trial was pruned at iteration 3.\n",
      "[I 2024-07-28 21:01:46,049] Trial 42 pruned. Trial was pruned at iteration 2.\n",
      "[I 2024-07-28 21:01:46,216] Trial 43 pruned. Trial was pruned at iteration 1.\n",
      "[I 2024-07-28 21:02:01,080] Trial 44 finished with value: 0.8745475591201312 and parameters: {'n_estimators': 652, 'learning_rate': 0.19140218246201532, 'max_depth': 14, 'gamma': 4.840567891834979, 'min_child_weight': 10, 'reg_alpha': 0.044087297335131996, 'reg_lambda': 0.04133863252469705, 'subsample': 0.6633931800153319, 'colsample_bytree': 0.6112271664286351, 'colsample_bylevel': 0.860058970414925, 'colsample_bynode': 0.8835711433570205, 'grow_policy': 'depthwise'}. Best is trial 44 with value: 0.8745475591201312.\n",
      "[I 2024-07-28 21:02:01,212] Trial 45 pruned. Trial was pruned at iteration 0.\n",
      "[I 2024-07-28 21:02:01,396] Trial 46 pruned. Trial was pruned at iteration 2.\n",
      "[I 2024-07-28 21:02:01,537] Trial 47 pruned. Trial was pruned at iteration 0.\n",
      "[I 2024-07-28 21:02:01,691] Trial 48 pruned. Trial was pruned at iteration 1.\n",
      "[I 2024-07-28 21:02:01,822] Trial 49 pruned. Trial was pruned at iteration 0.\n",
      "[I 2024-07-28 21:02:01,959] Trial 50 pruned. Trial was pruned at iteration 0.\n",
      "[I 2024-07-28 21:02:02,125] Trial 51 pruned. Trial was pruned at iteration 1.\n",
      "[I 2024-07-28 21:02:11,459] Trial 52 pruned. Trial was pruned at iteration 361.\n",
      "[I 2024-07-28 21:02:14,525] Trial 53 finished with value: 0.8665778799707986 and parameters: {'n_estimators': 550, 'learning_rate': 4.99795079982509e-05, 'max_depth': 14, 'gamma': 3.8750240936322005, 'min_child_weight': 13, 'reg_alpha': 0.03347376674226263, 'reg_lambda': 0.035507559881062876, 'subsample': 0.6619457703335209, 'colsample_bytree': 0.7792886845458635, 'colsample_bylevel': 0.841692013166846, 'colsample_bynode': 0.8990574972952302, 'grow_policy': 'depthwise'}. Best is trial 44 with value: 0.8745475591201312.\n",
      "[I 2024-07-28 21:02:14,715] Trial 54 pruned. Trial was pruned at iteration 2.\n",
      "[I 2024-07-28 21:02:14,848] Trial 55 pruned. Trial was pruned at iteration 0.\n",
      "[I 2024-07-28 21:02:15,005] Trial 56 pruned. Trial was pruned at iteration 0.\n",
      "[I 2024-07-28 21:02:15,169] Trial 57 pruned. Trial was pruned at iteration 0.\n",
      "[I 2024-07-28 21:02:15,368] Trial 58 pruned. Trial was pruned at iteration 2.\n",
      "[I 2024-07-28 21:02:15,510] Trial 59 pruned. Trial was pruned at iteration 0.\n",
      "[I 2024-07-28 21:02:15,763] Trial 60 pruned. Trial was pruned at iteration 2.\n",
      "[I 2024-07-28 21:02:18,144] Trial 61 finished with value: 0.8668521986228044 and parameters: {'n_estimators': 544, 'learning_rate': 6.54614799086876e-05, 'max_depth': 14, 'gamma': 3.69398456679138, 'min_child_weight': 13, 'reg_alpha': 0.03479298422235859, 'reg_lambda': 0.03256637116674709, 'subsample': 0.7384547399314754, 'colsample_bytree': 0.7730515502947358, 'colsample_bylevel': 0.8304105729239847, 'colsample_bynode': 0.8877567099118882, 'grow_policy': 'depthwise'}. Best is trial 44 with value: 0.8745475591201312.\n",
      "[I 2024-07-28 21:02:21,629] Trial 62 finished with value: 0.8673827820222867 and parameters: {'n_estimators': 564, 'learning_rate': 0.0005084233843982488, 'max_depth': 14, 'gamma': 3.3724040400469057, 'min_child_weight': 12, 'reg_alpha': 0.029851811261137878, 'reg_lambda': 0.040472931617182094, 'subsample': 0.7339586056053609, 'colsample_bytree': 0.8080104337390404, 'colsample_bylevel': 0.8650882132390962, 'colsample_bynode': 0.8735370513033619, 'grow_policy': 'depthwise'}. Best is trial 44 with value: 0.8745475591201312.\n",
      "[I 2024-07-28 21:02:25,183] Trial 63 finished with value: 0.8671096423131974 and parameters: {'n_estimators': 536, 'learning_rate': 0.0003693155925695257, 'max_depth': 15, 'gamma': 3.202850187431985, 'min_child_weight': 14, 'reg_alpha': 0.02980878350400131, 'reg_lambda': 0.03998482082906631, 'subsample': 0.7469734877074009, 'colsample_bytree': 0.8094653564408212, 'colsample_bylevel': 0.8683061592632936, 'colsample_bynode': 0.8736369463577532, 'grow_policy': 'depthwise'}. Best is trial 44 with value: 0.8745475591201312.\n",
      "[I 2024-07-28 21:02:25,367] Trial 64 pruned. Trial was pruned at iteration 1.\n",
      "[I 2024-07-28 21:02:44,974] Trial 65 finished with value: 0.8749968676068253 and parameters: {'n_estimators': 599, 'learning_rate': 0.03914187233327407, 'max_depth': 15, 'gamma': 2.9076290549921615, 'min_child_weight': 14, 'reg_alpha': 0.024730262153888495, 'reg_lambda': 0.04644450761011598, 'subsample': 0.832906031535801, 'colsample_bytree': 0.8373798240557926, 'colsample_bylevel': 0.8894564312430417, 'colsample_bynode': 0.839143724557555, 'grow_policy': 'lossguide'}. Best is trial 65 with value: 0.8749968676068253.\n",
      "[I 2024-07-28 21:03:00,386] Trial 66 finished with value: 0.8749567187073611 and parameters: {'n_estimators': 593, 'learning_rate': 0.043279615029298044, 'max_depth': 15, 'gamma': 3.0186091423211163, 'min_child_weight': 14, 'reg_alpha': 0.026579928636218754, 'reg_lambda': 0.039582513376533075, 'subsample': 0.8348240368398208, 'colsample_bytree': 0.877006154726213, 'colsample_bylevel': 0.8877594521706234, 'colsample_bynode': 0.8543990891961843, 'grow_policy': 'depthwise'}. Best is trial 65 with value: 0.8749968676068253.\n",
      "[I 2024-07-28 21:03:32,047] Trial 67 finished with value: 0.8750091144944516 and parameters: {'n_estimators': 596, 'learning_rate': 0.016109917588537543, 'max_depth': 15, 'gamma': 2.109597835868088, 'min_child_weight': 15, 'reg_alpha': 0.025863684593743816, 'reg_lambda': 0.05757046597639667, 'subsample': 0.838224818885289, 'colsample_bytree': 0.8649536854077224, 'colsample_bylevel': 0.8894540849066448, 'colsample_bynode': 0.8381083850979564, 'grow_policy': 'lossguide'}. Best is trial 67 with value: 0.8750091144944516.\n",
      "[I 2024-07-28 21:03:53,999] Trial 68 finished with value: 0.8753892019899909 and parameters: {'n_estimators': 619, 'learning_rate': 0.041024231882437784, 'max_depth': 15, 'gamma': 2.2089210692393566, 'min_child_weight': 15, 'reg_alpha': 0.026020894439217644, 'reg_lambda': 0.056956190195126745, 'subsample': 0.8625800871247836, 'colsample_bytree': 0.8988904535808114, 'colsample_bylevel': 0.8908303509212884, 'colsample_bynode': 0.8374137171308665, 'grow_policy': 'lossguide'}. Best is trial 68 with value: 0.8753892019899909.\n",
      "[I 2024-07-28 21:04:22,201] Trial 69 finished with value: 0.8752102729123793 and parameters: {'n_estimators': 1439, 'learning_rate': 0.04384638063420023, 'max_depth': 15, 'gamma': 2.076019399166575, 'min_child_weight': 15, 'reg_alpha': 0.019339252709951973, 'reg_lambda': 0.057079321811038704, 'subsample': 0.8415438187595129, 'colsample_bytree': 0.8693757580922473, 'colsample_bylevel': 0.8894820354353283, 'colsample_bynode': 0.7976828167768646, 'grow_policy': 'lossguide'}. Best is trial 68 with value: 0.8753892019899909.\n",
      "[I 2024-07-28 21:04:39,001] Trial 70 pruned. Trial was pruned at iteration 243.\n",
      "[I 2024-07-28 21:04:39,694] Trial 71 pruned. Trial was pruned at iteration 4.\n",
      "[I 2024-07-28 21:05:00,168] Trial 72 finished with value: 0.8752677742904301 and parameters: {'n_estimators': 601, 'learning_rate': 0.03828801757520322, 'max_depth': 15, 'gamma': 2.7564641083357415, 'min_child_weight': 17, 'reg_alpha': 0.015152135690245157, 'reg_lambda': 0.054350491690547356, 'subsample': 0.8215122116420047, 'colsample_bytree': 0.8664722642488695, 'colsample_bylevel': 0.8996493536847644, 'colsample_bynode': 0.8370993016485722, 'grow_policy': 'lossguide'}. Best is trial 68 with value: 0.8753892019899909.\n",
      "[I 2024-07-28 21:05:17,889] Trial 73 finished with value: 0.8752137996341265 and parameters: {'n_estimators': 1445, 'learning_rate': 0.09781058700302116, 'max_depth': 15, 'gamma': 2.7541352048864525, 'min_child_weight': 16, 'reg_alpha': 0.014292432657468084, 'reg_lambda': 0.06369619408522785, 'subsample': 0.8209999628466639, 'colsample_bytree': 0.8660556155493919, 'colsample_bylevel': 0.8998624069853007, 'colsample_bynode': 0.8197428885876329, 'grow_policy': 'lossguide'}. Best is trial 68 with value: 0.8753892019899909.\n",
      "[I 2024-07-28 21:05:55,913] Trial 74 finished with value: 0.8758312584694734 and parameters: {'n_estimators': 1427, 'learning_rate': 0.045640623671124717, 'max_depth': 15, 'gamma': 2.1304843387906605, 'min_child_weight': 17, 'reg_alpha': 0.01490102698164227, 'reg_lambda': 0.053395147804257845, 'subsample': 0.8263124090290509, 'colsample_bytree': 0.8685865103401375, 'colsample_bylevel': 0.8566147867891335, 'colsample_bynode': 0.8021382585492708, 'grow_policy': 'lossguide'}. Best is trial 74 with value: 0.8758312584694734.\n",
      "[I 2024-07-28 21:05:56,341] Trial 75 pruned. Trial was pruned at iteration 2.\n",
      "[I 2024-07-28 21:06:13,931] Trial 76 pruned. Trial was pruned at iteration 599.\n",
      "[I 2024-07-28 21:06:14,395] Trial 77 pruned. Trial was pruned at iteration 3.\n",
      "[I 2024-07-28 21:06:20,419] Trial 78 pruned. Trial was pruned at iteration 215.\n",
      "[I 2024-07-28 21:06:21,162] Trial 79 pruned. Trial was pruned at iteration 5.\n",
      "[I 2024-07-28 21:06:43,369] Trial 80 pruned. Trial was pruned at iteration 599.\n",
      "[I 2024-07-28 21:06:49,765] Trial 81 pruned. Trial was pruned at iteration 215.\n",
      "[I 2024-07-28 21:06:53,846] Trial 82 finished with value: 0.8710665449679958 and parameters: {'n_estimators': 1396, 'learning_rate': 0.4172365851189654, 'max_depth': 14, 'gamma': 1.1628255615025729, 'min_child_weight': 16, 'reg_alpha': 0.021583322243177903, 'reg_lambda': 0.05360281961739261, 'subsample': 0.8029309884365579, 'colsample_bytree': 0.8650177077726309, 'colsample_bylevel': 0.8859346784047126, 'colsample_bynode': 0.8233754633657068, 'grow_policy': 'lossguide'}. Best is trial 74 with value: 0.8758312584694734.\n",
      "[I 2024-07-28 21:07:03,771] Trial 83 pruned. Trial was pruned at iteration 243.\n",
      "[I 2024-07-28 21:07:16,139] Trial 84 pruned. Trial was pruned at iteration 130.\n",
      "[I 2024-07-28 21:07:16,530] Trial 85 pruned. Trial was pruned at iteration 3.\n",
      "[I 2024-07-28 21:07:26,707] Trial 86 finished with value: 0.8740825586575414 and parameters: {'n_estimators': 1204, 'learning_rate': 0.12091140109193346, 'max_depth': 15, 'gamma': 0.38268141904835873, 'min_child_weight': 15, 'reg_alpha': 0.01819325113848687, 'reg_lambda': 0.061261203616885605, 'subsample': 0.8840756620402497, 'colsample_bytree': 0.8498074612574317, 'colsample_bylevel': 0.8676282624653133, 'colsample_bynode': 0.783108980055267, 'grow_policy': 'lossguide'}. Best is trial 74 with value: 0.8758312584694734.\n",
      "[I 2024-07-28 21:07:29,482] Trial 87 pruned. Trial was pruned at iteration 112.\n",
      "[I 2024-07-28 21:07:29,692] Trial 88 pruned. Trial was pruned at iteration 1.\n",
      "[I 2024-07-28 21:07:30,022] Trial 89 pruned. Trial was pruned at iteration 2.\n",
      "[I 2024-07-28 21:07:37,884] Trial 90 pruned. Trial was pruned at iteration 243.\n",
      "[I 2024-07-28 21:07:46,867] Trial 91 pruned. Trial was pruned at iteration 243.\n",
      "[I 2024-07-28 21:07:54,840] Trial 92 finished with value: 0.872353736519786 and parameters: {'n_estimators': 1332, 'learning_rate': 0.19320621503989652, 'max_depth': 15, 'gamma': 0.48336948726259266, 'min_child_weight': 15, 'reg_alpha': 0.08849887257423511, 'reg_lambda': 0.04557051271370425, 'subsample': 0.8445049720099961, 'colsample_bytree': 0.8484761779434449, 'colsample_bylevel': 0.8999390358604022, 'colsample_bynode': 0.8031770068334637, 'grow_policy': 'lossguide'}. Best is trial 74 with value: 0.8758312584694734.\n",
      "[I 2024-07-28 21:08:05,307] Trial 93 pruned. Trial was pruned at iteration 124.\n",
      "[I 2024-07-28 21:08:13,429] Trial 94 finished with value: 0.8741537573557594 and parameters: {'n_estimators': 1142, 'learning_rate': 0.10279736777626838, 'max_depth': 15, 'gamma': 1.2341784176841708, 'min_child_weight': 16, 'reg_alpha': 0.01835301357187782, 'reg_lambda': 0.06815116125786332, 'subsample': 0.8292755751458946, 'colsample_bytree': 0.8874455155627936, 'colsample_bylevel': 0.8719328665011353, 'colsample_bynode': 0.834761308445825, 'grow_policy': 'lossguide'}. Best is trial 74 with value: 0.8758312584694734.\n",
      "[I 2024-07-28 21:08:14,084] Trial 95 pruned. Trial was pruned at iteration 4.\n",
      "[I 2024-07-28 21:08:18,134] Trial 96 pruned. Trial was pruned at iteration 151.\n",
      "[I 2024-07-28 21:08:18,426] Trial 97 pruned. Trial was pruned at iteration 3.\n",
      "[I 2024-07-28 21:08:23,659] Trial 98 pruned. Trial was pruned at iteration 215.\n",
      "[I 2024-07-28 21:08:24,068] Trial 99 pruned. Trial was pruned at iteration 3.\n"
     ]
    }
   ],
   "source": [
    "study = optuna.create_study(direction = 'maximize')\n",
    "study.optimize(\n",
    "    lambda trial: objective(trial, \n",
    "                            xtrain = xtrain, \n",
    "                            ytrain = ytrain, \n",
    "                            xtest = xtest, \n",
    "                            ytest = ytest), \n",
    "    n_trials=100)"
   ]
  },
  {
   "cell_type": "code",
   "execution_count": 11,
   "metadata": {},
   "outputs": [
    {
     "name": "stdout",
     "output_type": "stream",
     "text": [
      "Best score:  0.8758312584694734\n",
      "Best hyperparameters:  {'n_estimators': 1427, 'learning_rate': 0.045640623671124717, 'max_depth': 15, 'gamma': 2.1304843387906605, 'min_child_weight': 17, 'reg_alpha': 0.01490102698164227, 'reg_lambda': 0.053395147804257845, 'subsample': 0.8263124090290509, 'colsample_bytree': 0.8685865103401375, 'colsample_bylevel': 0.8566147867891335, 'colsample_bynode': 0.8021382585492708, 'grow_policy': 'lossguide'}\n"
     ]
    }
   ],
   "source": [
    "print('Best score: ', study.best_trial.value)\n",
    "print('Best hyperparameters: ', study.best_params)"
   ]
  },
  {
   "cell_type": "code",
   "execution_count": 12,
   "metadata": {},
   "outputs": [],
   "source": [
    "hyperparams = {'n_estimators': 1427, \n",
    "               'learning_rate': 0.045640623671124717, \n",
    "               'max_depth': 15, \n",
    "               'gamma': 2.1304843387906605, \n",
    "               'min_child_weight': 17, \n",
    "               'reg_alpha': 0.01490102698164227, \n",
    "               'reg_lambda': 0.053395147804257845, \n",
    "               'subsample': 0.8263124090290509, \n",
    "               'colsample_bytree': 0.8685865103401375, \n",
    "               'colsample_bylevel': 0.8566147867891335, \n",
    "               'colsample_bynode': 0.8021382585492708, \n",
    "               'grow_policy': 'lossguide'}"
   ]
  }
 ],
 "metadata": {
  "kernelspec": {
   "display_name": "Python 3",
   "language": "python",
   "name": "python3"
  },
  "language_info": {
   "codemirror_mode": {
    "name": "ipython",
    "version": 3
   },
   "file_extension": ".py",
   "mimetype": "text/x-python",
   "name": "python",
   "nbconvert_exporter": "python",
   "pygments_lexer": "ipython3",
   "version": "3.11.5"
  }
 },
 "nbformat": 4,
 "nbformat_minor": 2
}
