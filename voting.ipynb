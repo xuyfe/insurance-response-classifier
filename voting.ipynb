{
 "cells": [
  {
   "cell_type": "markdown",
   "metadata": {},
   "source": [
    "# Final Solution"
   ]
  },
  {
   "cell_type": "code",
   "execution_count": null,
   "metadata": {},
   "outputs": [],
   "source": [
    "import pandas as pd \n",
    "import numpy as np \n",
    "from sklearn.linear_model import LogisticRegression\n",
    "from sklearn.ensemble import GradientBoostingClassifier, VotingClassifier\n",
    "from xgboost import XGBoostClassifier\n",
    "from catboost import CatBoostClassifier"
   ]
  },
  {
   "cell_type": "code",
   "execution_count": null,
   "metadata": {},
   "outputs": [],
   "source": [
    "train = pd.read_csv('scaled_data/train_scaled.csv', index_col=0)\n",
    "test = pd.read_csv('scaled_data/test_scaled.csv', index_col=0)\n",
    "\n",
    "X_train = train.drop(['id', 'Response'], axis = 1)\n",
    "y_train = train['Response'].values\n",
    "X_test = test.drop('id', axis = 1)"
   ]
  },
  {
   "cell_type": "code",
   "execution_count": null,
   "metadata": {},
   "outputs": [],
   "source": [
    "hyperparams_xgbm = {\n",
    "    'n_estimators': 1427, \n",
    "    'learning_rate': 0.045640623671124717, \n",
    "    'max_depth': 15, \n",
    "    'gamma': 2.1304843387906605, \n",
    "    'min_child_weight': 17, \n",
    "    'reg_alpha': 0.01490102698164227, \n",
    "    'reg_lambda': 0.053395147804257845, \n",
    "    'subsample': 0.8263124090290509, \n",
    "    'colsample_bytree': 0.8685865103401375, \n",
    "    'colsample_bylevel': 0.8566147867891335, \n",
    "    'colsample_bynode': 0.8021382585492708, \n",
    "    'grow_policy': 'lossguide'\n",
    "}"
   ]
  },
  {
   "cell_type": "code",
   "execution_count": null,
   "metadata": {},
   "outputs": [],
   "source": [
    "hyperparams_sgbm = {\n",
    "     'n_estimators': 1494, \n",
    "     'learning_rate': 9.141062667777569e-05, \n",
    "     'max_depth': 15, \n",
    "     'min_samples_split': 10, \n",
    "     'min_samples_leaf': 5, \n",
    "     'subsample': 0.8850497055161204, \n",
    "     'max_features': 'log2'\n",
    "}"
   ]
  },
  {
   "cell_type": "code",
   "execution_count": null,
   "metadata": {},
   "outputs": [],
   "source": [
    "hyperparams_lr = {\n",
    "    'penalty': 'l2', \n",
    "    'C': 0.3255323004350203, \n",
    "    'solver': 'liblinear', \n",
    "    'max_iter': 486, \n",
    "    'class_weight': 'balanced'\n",
    "    }"
   ]
  },
  {
   "cell_type": "code",
   "execution_count": null,
   "metadata": {},
   "outputs": [],
   "source": [
    "cat = CatBoostClassifier(depth = 11, random_seed = 123, eval_metric = 'AUC')\n",
    "sgbm = GradientBoostingClassifier(**hyperparams_sgbm)\n",
    "xgbm = XGBoostClassifier(**hyperparams_xgbm)\n",
    "lr = LogisticRegression(**hyperparams_lr)\n",
    "\n",
    "estimators = [('CatBoost', cat), ('Stochastic', sgbm), ('XGBoost', xgbm), ('Logistic', lr)]\n",
    "\n",
    "vc = VotingClassifier(estimators = estimators, voting = 'soft', verbose = True)\n",
    "vc.fit(X_train, y_train)"
   ]
  },
  {
   "cell_type": "code",
   "execution_count": null,
   "metadata": {},
   "outputs": [],
   "source": [
    "y_test_prob = vc.predict_proba(X_test)[:, 1]"
   ]
  },
  {
   "cell_type": "markdown",
   "metadata": {},
   "source": [
    "### Submission"
   ]
  },
  {
   "cell_type": "code",
   "execution_count": null,
   "metadata": {},
   "outputs": [],
   "source": [
    "submission = pd.DataFrame({\n",
    "    'id' : test['id'],\n",
    "    'Response' : y_test_prob\n",
    "})"
   ]
  }
 ],
 "metadata": {
  "language_info": {
   "name": "python"
  }
 },
 "nbformat": 4,
 "nbformat_minor": 2
}
