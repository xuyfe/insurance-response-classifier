{
 "cells": [
  {
   "cell_type": "markdown",
   "metadata": {},
   "source": [
    "# Tuning XGBoost"
   ]
  },
  {
   "cell_type": "code",
   "execution_count": 13,
   "metadata": {},
   "outputs": [],
   "source": [
    "from sklearn.metrics import roc_auc_score\n",
    "from xgboost import XGBClassifier"
   ]
  },
  {
   "cell_type": "markdown",
   "metadata": {},
   "source": [
    "# Import Data"
   ]
  },
  {
   "cell_type": "code",
   "execution_count": 14,
   "metadata": {},
   "outputs": [],
   "source": [
    "import pandas as pd \n",
    "import numpy as np"
   ]
  },
  {
   "cell_type": "code",
   "execution_count": 15,
   "metadata": {},
   "outputs": [],
   "source": [
    "xtrain = pd.read_csv('scaled_data/xtrain.csv', index_col = 0)\n",
    "xtest = pd.read_csv('scaled_data/xtest.csv', index_col = 0)\n",
    "ytrain = pd.read_csv('scaled_data/ytrain.csv', index_col = 0)\n",
    "ytest = pd.read_csv('scaled_data/ytest.csv', index_col = 0)"
   ]
  },
  {
   "cell_type": "code",
   "execution_count": 16,
   "metadata": {},
   "outputs": [],
   "source": [
    "train = pd.read_csv('scaled_data/train_scaled.csv', index_col = 0)\n",
    "test = pd.read_csv('scaled_data/test_scaled.csv', index_col = 0)"
   ]
  },
  {
   "cell_type": "code",
   "execution_count": 17,
   "metadata": {},
   "outputs": [],
   "source": [
    "# for the labels and the id\n",
    "train_raw = pd.read_csv('data/train_sample.csv', index_col = 0)\n",
    "test_raw = pd.read_csv('data/test_sample.csv')"
   ]
  },
  {
   "cell_type": "markdown",
   "metadata": {},
   "source": [
    "# Hyperparameter Tuning"
   ]
  },
  {
   "cell_type": "code",
   "execution_count": 18,
   "metadata": {},
   "outputs": [],
   "source": [
    "import optuna\n",
    "from optuna_integration.xgboost import XGBoostPruningCallback\n",
    "from sklearn.model_selection import StratifiedKFold"
   ]
  },
  {
   "cell_type": "code",
   "execution_count": 38,
   "metadata": {},
   "outputs": [],
   "source": [
    "# define the objective function\n",
    "def objective(trial: optuna.Trial, \n",
    "              xtrain: pd.DataFrame, \n",
    "              ytrain: pd.DataFrame, \n",
    "              xtest: pd.DataFrame, \n",
    "              ytest: pd.DataFrame) -> float:\n",
    "    # define the hyperparameters to tune\n",
    "    hyperparams = {\n",
    "        'objective' : 'binary:logistic',\n",
    "        'eval_metric' : 'auc',\n",
    "        'seed' : 123,\n",
    "        'n_estimators' : trial.suggest_int('n_estimators', 500, 1500),\n",
    "        'learning_rate' : trial.suggest_float('learning_rate', 1e-8, 1, log=True),\n",
    "        'max_depth' : trial.suggest_int('max_depth', 5, 15),\n",
    "        'gamma' : trial.suggest_float('gamma', 0, 20),\n",
    "        'min_child_weight' : trial.suggest_int('min_child_weight', 2, 20),\n",
    "        'reg_alpha' : trial.suggest_float('reg_alpha', 1e-2, 0.1),\n",
    "        'reg_lambda' : trial.suggest_float('reg_lambda', 1e-2, 0.1),\n",
    "        'subsample' : trial.suggest_float('subsample', 0.5, 0.9),\n",
    "        'colsample_bytree' : trial.suggest_float('colsample_bytree', 0.5, 0.9),\n",
    "        'colsample_bylevel' : trial.suggest_float('colsample_bylevel', 0.5, 0.9),\n",
    "        'colsample_bynode' : trial.suggest_float('colsample_bynode', 0.5, 0.9),\n",
    "        'grow_policy' : trial.suggest_categorical('grow_policy', ['depthwise', 'lossguide'])\n",
    "    }\n",
    "\n",
    "    # pruning callback\n",
    "    pruning_callback = XGBoostPruningCallback(trial, 'validation_0-auc')\n",
    "\n",
    "    # train model\n",
    "    xgb_clf = XGBClassifier(\n",
    "        **hyperparams,\n",
    "        callbacks = [pruning_callback],\n",
    "        early_stopping_rounds = 50\n",
    "    )\n",
    "\n",
    "    xgb_clf.fit(xtrain, ytrain, eval_set = [(xtest, ytest)], verbose = False)\n",
    "\n",
    "    y_pred_proba = xgb_clf.predict_proba(xtest)\n",
    "\n",
    "    roc_auc = roc_auc_score(ytest, y_pred_proba[:, 1])\n",
    "\n",
    "    return float(roc_auc)"
   ]
  },
  {
   "cell_type": "code",
   "execution_count": 39,
   "metadata": {},
   "outputs": [
    {
     "name": "stderr",
     "output_type": "stream",
     "text": [
      "[I 2024-07-28 19:38:22,752] A new study created in memory with name: no-name-f516ad8c-4625-4d16-b485-9a300a6eec8d\n",
      "[I 2024-07-28 19:38:36,986] Trial 0 finished with value: 0.8664476950981816 and parameters: {'n_estimators': 1310, 'learning_rate': 0.12916073761548066, 'max_depth': 13, 'gamma': 18.087232208141522, 'min_child_weight': 3, 'reg_alpha': 0.05567260795753028, 'reg_lambda': 0.08796615128989305, 'subsample': 0.5087137841858322, 'colsample_bytree': 0.6888611198780488, 'colsample_bylevel': 0.5518830483556978, 'colsample_bynode': 0.7215491776686989, 'grow_policy': 'lossguide'}. Best is trial 0 with value: 0.8664476950981816.\n",
      "[I 2024-07-28 19:38:48,105] Trial 1 finished with value: 0.8644250294463618 and parameters: {'n_estimators': 1377, 'learning_rate': 0.5843934237334004, 'max_depth': 8, 'gamma': 15.569135052538526, 'min_child_weight': 12, 'reg_alpha': 0.0750618684694755, 'reg_lambda': 0.048757883617773515, 'subsample': 0.5388762190287629, 'colsample_bytree': 0.6228400751764208, 'colsample_bylevel': 0.5794033444134864, 'colsample_bynode': 0.5136288365117834, 'grow_policy': 'depthwise'}. Best is trial 0 with value: 0.8664476950981816.\n",
      "[I 2024-07-28 19:38:53,880] Trial 2 finished with value: 0.8604508459949449 and parameters: {'n_estimators': 952, 'learning_rate': 8.586297987347379e-08, 'max_depth': 13, 'gamma': 19.0049343261905, 'min_child_weight': 11, 'reg_alpha': 0.05570303869421041, 'reg_lambda': 0.07455389961866898, 'subsample': 0.6808493233462206, 'colsample_bytree': 0.8610754817977666, 'colsample_bylevel': 0.5777339508476931, 'colsample_bynode': 0.8235388381392416, 'grow_policy': 'lossguide'}. Best is trial 0 with value: 0.8664476950981816.\n",
      "[I 2024-07-28 19:38:57,230] Trial 3 finished with value: 0.8599402685508192 and parameters: {'n_estimators': 1126, 'learning_rate': 1.101977196830214e-06, 'max_depth': 10, 'gamma': 10.410590989965101, 'min_child_weight': 9, 'reg_alpha': 0.06831508002813562, 'reg_lambda': 0.0337798373175861, 'subsample': 0.783736724253654, 'colsample_bytree': 0.8274730782363738, 'colsample_bylevel': 0.5271156565124622, 'colsample_bynode': 0.5725732311130407, 'grow_policy': 'depthwise'}. Best is trial 0 with value: 0.8664476950981816.\n",
      "[I 2024-07-28 19:38:59,394] Trial 4 finished with value: 0.8522258070635503 and parameters: {'n_estimators': 895, 'learning_rate': 0.0016683002541193928, 'max_depth': 5, 'gamma': 19.424938980248925, 'min_child_weight': 20, 'reg_alpha': 0.014497715821422981, 'reg_lambda': 0.05885991548788456, 'subsample': 0.7004755571272034, 'colsample_bytree': 0.6318690798953019, 'colsample_bylevel': 0.6737733293731043, 'colsample_bynode': 0.5657973171181391, 'grow_policy': 'depthwise'}. Best is trial 0 with value: 0.8664476950981816.\n",
      "[I 2024-07-28 19:38:59,874] Trial 5 pruned. Trial was pruned at iteration 19.\n",
      "[I 2024-07-28 19:39:00,523] Trial 6 pruned. Trial was pruned at iteration 26.\n",
      "[I 2024-07-28 19:39:05,271] Trial 7 pruned. Trial was pruned at iteration 143.\n",
      "[I 2024-07-28 19:39:15,131] Trial 8 finished with value: 0.8643858959118731 and parameters: {'n_estimators': 1223, 'learning_rate': 6.126382248552132e-06, 'max_depth': 14, 'gamma': 1.4852407477848195, 'min_child_weight': 3, 'reg_alpha': 0.036580787983675506, 'reg_lambda': 0.08165867988484579, 'subsample': 0.7713934880456422, 'colsample_bytree': 0.7601021152834814, 'colsample_bylevel': 0.6399349990427853, 'colsample_bynode': 0.6678380518223865, 'grow_policy': 'lossguide'}. Best is trial 0 with value: 0.8664476950981816.\n",
      "[I 2024-07-28 19:39:17,640] Trial 9 pruned. Trial was pruned at iteration 96.\n",
      "[I 2024-07-28 19:39:20,772] Trial 10 finished with value: 0.8705727325523991 and parameters: {'n_estimators': 669, 'learning_rate': 0.9243599342982062, 'max_depth': 11, 'gamma': 6.821750009544628, 'min_child_weight': 2, 'reg_alpha': 0.03988258553495177, 'reg_lambda': 0.09629705570800635, 'subsample': 0.8364391087281874, 'colsample_bytree': 0.6620887434076128, 'colsample_bylevel': 0.8791031025154153, 'colsample_bynode': 0.7347064696254754, 'grow_policy': 'lossguide'}. Best is trial 10 with value: 0.8705727325523991.\n",
      "[I 2024-07-28 19:39:23,382] Trial 11 finished with value: 0.8671668176238128 and parameters: {'n_estimators': 512, 'learning_rate': 0.9984159528617116, 'max_depth': 11, 'gamma': 6.149214697995157, 'min_child_weight': 2, 'reg_alpha': 0.03752259115872002, 'reg_lambda': 0.09751740293247127, 'subsample': 0.8938853076425394, 'colsample_bytree': 0.66400717860133, 'colsample_bylevel': 0.8691085142207229, 'colsample_bynode': 0.7260467480977268, 'grow_policy': 'lossguide'}. Best is trial 10 with value: 0.8705727325523991.\n",
      "[I 2024-07-28 19:39:32,756] Trial 12 finished with value: 0.8708895262692645 and parameters: {'n_estimators': 541, 'learning_rate': 0.08261137932069448, 'max_depth': 10, 'gamma': 6.313964993886883, 'min_child_weight': 2, 'reg_alpha': 0.03689194590114225, 'reg_lambda': 0.09436013539038056, 'subsample': 0.8838393329953056, 'colsample_bytree': 0.6473037974691866, 'colsample_bylevel': 0.8991708786355171, 'colsample_bynode': 0.7363386634456449, 'grow_policy': 'lossguide'}. Best is trial 12 with value: 0.8708895262692645.\n",
      "[I 2024-07-28 19:39:32,896] Trial 13 pruned. Trial was pruned at iteration 0.\n",
      "[I 2024-07-28 19:39:33,040] Trial 14 pruned. Trial was pruned at iteration 0.\n",
      "[I 2024-07-28 19:39:33,183] Trial 15 pruned. Trial was pruned at iteration 0.\n",
      "[I 2024-07-28 19:39:35,401] Trial 16 pruned. Trial was pruned at iteration 51.\n",
      "[I 2024-07-28 19:39:41,178] Trial 17 finished with value: 0.8701240989024573 and parameters: {'n_estimators': 848, 'learning_rate': 0.24034280320529758, 'max_depth': 15, 'gamma': 12.721528844426363, 'min_child_weight': 5, 'reg_alpha': 0.04295652687001483, 'reg_lambda': 0.06660596936616708, 'subsample': 0.8595485641455981, 'colsample_bytree': 0.6615846697675704, 'colsample_bylevel': 0.7668764436581511, 'colsample_bynode': 0.8593437279597125, 'grow_policy': 'lossguide'}. Best is trial 12 with value: 0.8708895262692645.\n",
      "[I 2024-07-28 19:39:41,336] Trial 18 pruned. Trial was pruned at iteration 0.\n",
      "[I 2024-07-28 19:39:41,495] Trial 19 pruned. Trial was pruned at iteration 0.\n",
      "[I 2024-07-28 19:39:41,916] Trial 20 pruned. Trial was pruned at iteration 9.\n",
      "[I 2024-07-28 19:39:46,036] Trial 21 finished with value: 0.869606578414398 and parameters: {'n_estimators': 906, 'learning_rate': 0.22387919569765063, 'max_depth': 15, 'gamma': 12.741932650758551, 'min_child_weight': 4, 'reg_alpha': 0.04813554536118651, 'reg_lambda': 0.061960876151697465, 'subsample': 0.8571052485142028, 'colsample_bytree': 0.6593625994867424, 'colsample_bylevel': 0.7560190171177028, 'colsample_bynode': 0.8707252577228572, 'grow_policy': 'lossguide'}. Best is trial 12 with value: 0.8708895262692645.\n",
      "[I 2024-07-28 19:39:46,178] Trial 22 pruned. Trial was pruned at iteration 0.\n",
      "[I 2024-07-28 19:40:05,072] Trial 23 finished with value: 0.8718229674624506 and parameters: {'n_estimators': 636, 'learning_rate': 0.014053001684708402, 'max_depth': 12, 'gamma': 7.418436070611824, 'min_child_weight': 5, 'reg_alpha': 0.041282529515719035, 'reg_lambda': 0.0791978132786912, 'subsample': 0.8141630488490922, 'colsample_bytree': 0.6946428137265691, 'colsample_bylevel': 0.8315296187267329, 'colsample_bynode': 0.8451838963979114, 'grow_policy': 'lossguide'}. Best is trial 23 with value: 0.8718229674624506.\n",
      "[I 2024-07-28 19:40:07,589] Trial 24 pruned. Trial was pruned at iteration 59.\n",
      "[I 2024-07-28 19:40:07,738] Trial 25 pruned. Trial was pruned at iteration 0.\n",
      "[I 2024-07-28 19:40:08,486] Trial 26 pruned. Trial was pruned at iteration 15.\n",
      "[I 2024-07-28 19:40:08,657] Trial 27 pruned. Trial was pruned at iteration 0.\n",
      "[I 2024-07-28 19:40:08,796] Trial 28 pruned. Trial was pruned at iteration 0.\n",
      "[I 2024-07-28 19:40:11,119] Trial 29 pruned. Trial was pruned at iteration 96.\n",
      "[I 2024-07-28 19:40:11,261] Trial 30 pruned. Trial was pruned at iteration 0.\n",
      "[I 2024-07-28 19:40:14,434] Trial 31 finished with value: 0.869153118282245 and parameters: {'n_estimators': 839, 'learning_rate': 0.27163725624561713, 'max_depth': 14, 'gamma': 13.84784615978415, 'min_child_weight': 5, 'reg_alpha': 0.043473237688969976, 'reg_lambda': 0.06920483963207352, 'subsample': 0.8642107540987564, 'colsample_bytree': 0.6569135118182466, 'colsample_bylevel': 0.8236861872243884, 'colsample_bynode': 0.8534095997110781, 'grow_policy': 'lossguide'}. Best is trial 23 with value: 0.8718229674624506.\n",
      "[I 2024-07-28 19:40:17,203] Trial 32 finished with value: 0.8685707666627533 and parameters: {'n_estimators': 766, 'learning_rate': 0.35367512467554335, 'max_depth': 13, 'gamma': 11.220506121224588, 'min_child_weight': 6, 'reg_alpha': 0.04038172858923693, 'reg_lambda': 0.0671732450134158, 'subsample': 0.8738197005562508, 'colsample_bytree': 0.6916977921378722, 'colsample_bylevel': 0.7854287706385004, 'colsample_bynode': 0.896336392775302, 'grow_policy': 'lossguide'}. Best is trial 23 with value: 0.8718229674624506.\n",
      "[I 2024-07-28 19:40:26,103] Trial 33 finished with value: 0.8704514567688536 and parameters: {'n_estimators': 1037, 'learning_rate': 0.07581584203342437, 'max_depth': 15, 'gamma': 9.299870004326841, 'min_child_weight': 3, 'reg_alpha': 0.051166347515598926, 'reg_lambda': 0.051883536101210534, 'subsample': 0.831781958087276, 'colsample_bytree': 0.6350481375070319, 'colsample_bylevel': 0.8471787412306475, 'colsample_bynode': 0.87170937749642, 'grow_policy': 'lossguide'}. Best is trial 23 with value: 0.8718229674624506.\n",
      "[I 2024-07-28 19:40:26,266] Trial 34 pruned. Trial was pruned at iteration 1.\n",
      "[I 2024-07-28 19:40:26,411] Trial 35 pruned. Trial was pruned at iteration 0.\n",
      "[I 2024-07-28 19:40:26,542] Trial 36 pruned. Trial was pruned at iteration 0.\n",
      "[I 2024-07-28 19:40:26,673] Trial 37 pruned. Trial was pruned at iteration 0.\n",
      "[I 2024-07-28 19:40:26,816] Trial 38 pruned. Trial was pruned at iteration 0.\n",
      "[I 2024-07-28 19:40:27,000] Trial 39 pruned. Trial was pruned at iteration 0.\n",
      "[I 2024-07-28 19:40:27,141] Trial 40 pruned. Trial was pruned at iteration 0.\n",
      "[I 2024-07-28 19:40:27,285] Trial 41 pruned. Trial was pruned at iteration 0.\n",
      "[I 2024-07-28 19:40:29,926] Trial 42 finished with value: 0.8708850958260415 and parameters: {'n_estimators': 554, 'learning_rate': 0.3307550283727216, 'max_depth': 15, 'gamma': 12.336464744918354, 'min_child_weight': 4, 'reg_alpha': 0.044634764197142004, 'reg_lambda': 0.07728314965943565, 'subsample': 0.8552529797658038, 'colsample_bytree': 0.6485259121333572, 'colsample_bylevel': 0.8531576616380026, 'colsample_bynode': 0.8708628737045299, 'grow_policy': 'lossguide'}. Best is trial 23 with value: 0.8718229674624506.\n",
      "[I 2024-07-28 19:40:30,073] Trial 43 pruned. Trial was pruned at iteration 0.\n",
      "[I 2024-07-28 19:40:30,250] Trial 44 pruned. Trial was pruned at iteration 1.\n",
      "[I 2024-07-28 19:40:30,386] Trial 45 pruned. Trial was pruned at iteration 0.\n",
      "[I 2024-07-28 19:40:30,579] Trial 46 pruned. Trial was pruned at iteration 1.\n",
      "[I 2024-07-28 19:40:30,788] Trial 47 pruned. Trial was pruned at iteration 1.\n",
      "[I 2024-07-28 19:40:30,918] Trial 48 pruned. Trial was pruned at iteration 0.\n",
      "[I 2024-07-28 19:40:31,815] Trial 49 pruned. Trial was pruned at iteration 35.\n"
     ]
    }
   ],
   "source": [
    "study = optuna.create_study(direction = 'maximize')\n",
    "study.optimize(\n",
    "    lambda trial: objective(trial, \n",
    "                            xtrain = xtrain, \n",
    "                            ytrain = ytrain, \n",
    "                            xtest = xtest, \n",
    "                            ytest = ytest), \n",
    "    n_trials=100)"
   ]
  },
  {
   "cell_type": "code",
   "execution_count": 40,
   "metadata": {},
   "outputs": [
    {
     "name": "stdout",
     "output_type": "stream",
     "text": [
      "Best score:  0.8718229674624506\n",
      "Best hyperparameters:  {'n_estimators': 636, 'learning_rate': 0.014053001684708402, 'max_depth': 12, 'gamma': 7.418436070611824, 'min_child_weight': 5, 'reg_alpha': 0.041282529515719035, 'reg_lambda': 0.0791978132786912, 'subsample': 0.8141630488490922, 'colsample_bytree': 0.6946428137265691, 'colsample_bylevel': 0.8315296187267329, 'colsample_bynode': 0.8451838963979114, 'grow_policy': 'lossguide'}\n"
     ]
    }
   ],
   "source": [
    "print('Best score: ', study.best_trial.value)\n",
    "print('Best hyperparameters: ', study.best_params)"
   ]
  },
  {
   "cell_type": "code",
   "execution_count": 1,
   "metadata": {},
   "outputs": [],
   "source": [
    "hyperparams = {'n_estimators': 636, \n",
    "               'learning_rate': 0.014053001684708402, \n",
    "               'max_depth': 12, \n",
    "               'gamma': 7.418436070611824, \n",
    "               'min_child_weight': 5, \n",
    "               'reg_alpha': 0.041282529515719035, \n",
    "               'reg_lambda': 0.0791978132786912, \n",
    "               'subsample': 0.8141630488490922, \n",
    "               'colsample_bytree': 0.6946428137265691, \n",
    "               'colsample_bylevel': 0.8315296187267329, \n",
    "               'colsample_bynode': 0.8451838963979114, \n",
    "               'grow_policy': 'lossguide'}"
   ]
  }
 ],
 "metadata": {
  "kernelspec": {
   "display_name": "Python 3",
   "language": "python",
   "name": "python3"
  },
  "language_info": {
   "codemirror_mode": {
    "name": "ipython",
    "version": 3
   },
   "file_extension": ".py",
   "mimetype": "text/x-python",
   "name": "python",
   "nbconvert_exporter": "python",
   "pygments_lexer": "ipython3",
   "version": "3.11.5"
  }
 },
 "nbformat": 4,
 "nbformat_minor": 2
}
