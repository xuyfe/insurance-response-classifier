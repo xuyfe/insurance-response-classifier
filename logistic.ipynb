{
 "cells": [
  {
   "cell_type": "markdown",
   "metadata": {},
   "source": [
    "# Tuning Logistic Regression"
   ]
  },
  {
   "cell_type": "code",
   "execution_count": 15,
   "metadata": {},
   "outputs": [],
   "source": [
    "from sklearn.linear_model import LogisticRegression\n",
    "from sklearn.metrics import roc_auc_score\n",
    "import pandas as pd \n",
    "import numpy as np \n",
    "import optuna"
   ]
  },
  {
   "cell_type": "code",
   "execution_count": 16,
   "metadata": {},
   "outputs": [],
   "source": [
    "xtrain = pd.read_csv('scaled_data/xtrain.csv', index_col = 0)\n",
    "xtest = pd.read_csv('scaled_data/xtest.csv', index_col = 0)\n",
    "ytrain = pd.read_csv('scaled_data/ytrain.csv', index_col = 0)\n",
    "ytest = pd.read_csv('scaled_data/ytest.csv', index_col = 0)"
   ]
  },
  {
   "cell_type": "code",
   "execution_count": 17,
   "metadata": {},
   "outputs": [
    {
     "data": {
      "text/plain": [
       "(172572,)"
      ]
     },
     "execution_count": 17,
     "metadata": {},
     "output_type": "execute_result"
    }
   ],
   "source": [
    "ytest = ytest.to_numpy().flatten()\n",
    "ytest.shape"
   ]
  },
  {
   "cell_type": "code",
   "execution_count": 18,
   "metadata": {},
   "outputs": [
    {
     "data": {
      "text/plain": [
       "(402668,)"
      ]
     },
     "execution_count": 18,
     "metadata": {},
     "output_type": "execute_result"
    }
   ],
   "source": [
    "ytrain = ytrain.to_numpy().flatten()\n",
    "ytrain.shape"
   ]
  },
  {
   "cell_type": "code",
   "execution_count": 25,
   "metadata": {},
   "outputs": [],
   "source": [
    "# define the objective function\n",
    "def objective(trial: optuna.Trial, \n",
    "              xtrain: pd.DataFrame, \n",
    "              ytrain: pd.DataFrame, \n",
    "              xtest: pd.DataFrame, \n",
    "              ytest: pd.DataFrame) -> float:\n",
    "    \n",
    "    # Suggest hyperparameters to tune\n",
    "    penalty = trial.suggest_categorical('penalty', ['l1', 'l2'])\n",
    "    C = trial.suggest_loguniform('C', 1e-5, 1e5)\n",
    "    # solver = trial.suggest_categorical('solver', ['newton-cg', 'liblinear'])\n",
    "    max_iter = trial.suggest_int('max_iter', 50, 500)\n",
    "    class_weight = trial.suggest_categorical('class_weight', [None, 'balanced'])\n",
    "\n",
    "    \n",
    "    # Create the model with the suggested hyperparameters\n",
    "    model = LogisticRegression(\n",
    "        penalty=penalty,\n",
    "        C=C,\n",
    "        solver=solver,\n",
    "        max_iter=max_iter,\n",
    "        class_weight=class_weight\n",
    "    )\n",
    "    \n",
    "    # Train the model\n",
    "    model.fit(xtrain, ytrain)\n",
    "\n",
    "    y_pred_proba = model.predict_proba(xtest)\n",
    "\n",
    "    roc_auc = roc_auc_score(ytest, y_pred_proba[:, 1])\n",
    "\n",
    "    return float(roc_auc)"
   ]
  },
  {
   "cell_type": "code",
   "execution_count": null,
   "metadata": {},
   "outputs": [],
   "source": [
    "# Create a study object and specify the optimization direction\n",
    "study = optuna.create_study(direction='maximize')\n",
    "\n",
    "# Optimize the objective function\n",
    "study.optimize(lambda trial: objective(trial, \n",
    "                                       xtrain = xtrain, \n",
    "                                       xtest = xtest,\n",
    "                                       ytrain = ytrain,\n",
    "                                       ytest = ytest), n_trials=100)\n",
    "\n",
    "# Print the best hyperparameters\n",
    "print('Best hyperparameters:', study.best_params)\n",
    "print('Best score:', study.best_value)"
   ]
  },
  {
   "cell_type": "code",
   "execution_count": 27,
   "metadata": {},
   "outputs": [],
   "source": [
    "hyperparams = {\n",
    "    'penalty': 'l2', \n",
    "    'C': 0.3255323004350203, \n",
    "    'solver': 'liblinear', \n",
    "    'max_iter': 486, \n",
    "    'class_weight': 'balanced'\n",
    "    }"
   ]
  }
 ],
 "metadata": {
  "kernelspec": {
   "display_name": "insurance",
   "language": "python",
   "name": "python3"
  },
  "language_info": {
   "codemirror_mode": {
    "name": "ipython",
    "version": 3
   },
   "file_extension": ".py",
   "mimetype": "text/x-python",
   "name": "python",
   "nbconvert_exporter": "python",
   "pygments_lexer": "ipython3",
   "version": "3.11.5"
  }
 },
 "nbformat": 4,
 "nbformat_minor": 2
}
